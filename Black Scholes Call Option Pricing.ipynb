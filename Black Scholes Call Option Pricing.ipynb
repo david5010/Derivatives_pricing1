{
 "cells": [
  {
   "cell_type": "markdown",
   "id": "b40fb6a8",
   "metadata": {},
   "source": [
    "# Abstract"
   ]
  },
  {
   "cell_type": "markdown",
   "id": "b17b4aad",
   "metadata": {},
   "source": [
    "Using the Black-Scholes model for call options, we can try to \"predict\" the price of options. The equation has a few underlying assumptions. One of the major assumptions is that q, the annual dividend yield is set to 0. Furthermore, we can define \"moneyness\" as M = K/S where K is the strike price and S is the price of the stock. With that in mind, the equation simplifies and shows that it now depends on moneyness, risk-free rate, volatility and time to maturity. Lastly, volatility isn't constant. We can try to derive the volatility based on the price of options that already exist. We can use the equation for volatility"
   ]
  },
  {
   "cell_type": "markdown",
   "id": "e2df40c6",
   "metadata": {},
   "source": [
    "$$\\sigma (M, \\tau) = \\sigma_0 + \\alpha \\tau + \\beta(M-1)^2$$"
   ]
  },
  {
   "cell_type": "markdown",
   "id": "84216c7f",
   "metadata": {},
   "source": [
    "We can start by defining some of the parameters for the volatility (alpha, sigma, beta)"
   ]
  },
  {
   "cell_type": "code",
   "execution_count": 1,
   "id": "050bc151",
   "metadata": {},
   "outputs": [],
   "source": [
    "import numpy as np\n",
    "from sklearn.neural_network import MLPRegressor\n",
    "from sklearn.model_selection import train_test_split\n",
    "from sklearn.metrics import mean_squared_error, r2_score\n",
    "import pandas as pd\n",
    "import pickle\n",
    "from scipy import stats\n",
    "import matplotlib.pyplot as plt\n",
    "import tensorflow_datasets as tfds\n",
    "plt.rcParams['figure.dpi'] = 300"
   ]
  },
  {
   "cell_type": "markdown",
   "id": "cc51ea98",
   "metadata": {},
   "source": [
    "## Data preparation"
   ]
  },
  {
   "cell_type": "code",
   "execution_count": 5,
   "id": "a9c0eb34",
   "metadata": {},
   "outputs": [],
   "source": [
    "data = pd.read_csv('./data/SNP.csv', on_bad_lines='skip')"
   ]
  },
  {
   "cell_type": "code",
   "execution_count": 6,
   "id": "144a05fc",
   "metadata": {},
   "outputs": [
    {
     "data": {
      "text/html": [
       "<div>\n",
       "<style scoped>\n",
       "    .dataframe tbody tr th:only-of-type {\n",
       "        vertical-align: middle;\n",
       "    }\n",
       "\n",
       "    .dataframe tbody tr th {\n",
       "        vertical-align: top;\n",
       "    }\n",
       "\n",
       "    .dataframe thead th {\n",
       "        text-align: right;\n",
       "    }\n",
       "</style>\n",
       "<table border=\"1\" class=\"dataframe\">\n",
       "  <thead>\n",
       "    <tr style=\"text-align: right;\">\n",
       "      <th></th>\n",
       "      <th>Stock Price</th>\n",
       "      <th>Strike Price</th>\n",
       "      <th>Maturity</th>\n",
       "      <th>Dividends</th>\n",
       "      <th>Volatility</th>\n",
       "      <th>Risk-free</th>\n",
       "      <th>Call Price</th>\n",
       "    </tr>\n",
       "  </thead>\n",
       "  <tbody>\n",
       "    <tr>\n",
       "      <th>0</th>\n",
       "      <td>216.04</td>\n",
       "      <td>192.5</td>\n",
       "      <td>0.003445</td>\n",
       "      <td>0.0196</td>\n",
       "      <td>0.3191</td>\n",
       "      <td>0.0088</td>\n",
       "      <td>23.70</td>\n",
       "    </tr>\n",
       "    <tr>\n",
       "      <th>1</th>\n",
       "      <td>216.04</td>\n",
       "      <td>200.0</td>\n",
       "      <td>0.003445</td>\n",
       "      <td>0.0196</td>\n",
       "      <td>0.3191</td>\n",
       "      <td>0.0088</td>\n",
       "      <td>16.50</td>\n",
       "    </tr>\n",
       "    <tr>\n",
       "      <th>2</th>\n",
       "      <td>216.04</td>\n",
       "      <td>202.5</td>\n",
       "      <td>0.003445</td>\n",
       "      <td>0.0196</td>\n",
       "      <td>0.3191</td>\n",
       "      <td>0.0088</td>\n",
       "      <td>14.10</td>\n",
       "    </tr>\n",
       "    <tr>\n",
       "      <th>3</th>\n",
       "      <td>216.04</td>\n",
       "      <td>205.0</td>\n",
       "      <td>0.003445</td>\n",
       "      <td>0.0196</td>\n",
       "      <td>0.3191</td>\n",
       "      <td>0.0088</td>\n",
       "      <td>11.60</td>\n",
       "    </tr>\n",
       "    <tr>\n",
       "      <th>4</th>\n",
       "      <td>216.04</td>\n",
       "      <td>207.5</td>\n",
       "      <td>0.003445</td>\n",
       "      <td>0.0196</td>\n",
       "      <td>0.3191</td>\n",
       "      <td>0.0088</td>\n",
       "      <td>9.20</td>\n",
       "    </tr>\n",
       "    <tr>\n",
       "      <th>...</th>\n",
       "      <td>...</td>\n",
       "      <td>...</td>\n",
       "      <td>...</td>\n",
       "      <td>...</td>\n",
       "      <td>...</td>\n",
       "      <td>...</td>\n",
       "      <td>...</td>\n",
       "    </tr>\n",
       "    <tr>\n",
       "      <th>47253</th>\n",
       "      <td>83.28</td>\n",
       "      <td>85.0</td>\n",
       "      <td>1.957636</td>\n",
       "      <td>0.0415</td>\n",
       "      <td>0.4502</td>\n",
       "      <td>0.0088</td>\n",
       "      <td>15.00</td>\n",
       "    </tr>\n",
       "    <tr>\n",
       "      <th>47254</th>\n",
       "      <td>83.28</td>\n",
       "      <td>90.0</td>\n",
       "      <td>1.957636</td>\n",
       "      <td>0.0415</td>\n",
       "      <td>0.4502</td>\n",
       "      <td>0.0088</td>\n",
       "      <td>12.80</td>\n",
       "    </tr>\n",
       "    <tr>\n",
       "      <th>47255</th>\n",
       "      <td>83.28</td>\n",
       "      <td>95.0</td>\n",
       "      <td>1.957636</td>\n",
       "      <td>0.0415</td>\n",
       "      <td>0.4502</td>\n",
       "      <td>0.0088</td>\n",
       "      <td>11.10</td>\n",
       "    </tr>\n",
       "    <tr>\n",
       "      <th>47256</th>\n",
       "      <td>83.28</td>\n",
       "      <td>100.0</td>\n",
       "      <td>1.957636</td>\n",
       "      <td>0.0415</td>\n",
       "      <td>0.4502</td>\n",
       "      <td>0.0088</td>\n",
       "      <td>9.85</td>\n",
       "    </tr>\n",
       "    <tr>\n",
       "      <th>47257</th>\n",
       "      <td>83.28</td>\n",
       "      <td>105.0</td>\n",
       "      <td>1.957636</td>\n",
       "      <td>0.0415</td>\n",
       "      <td>0.4502</td>\n",
       "      <td>0.0088</td>\n",
       "      <td>8.45</td>\n",
       "    </tr>\n",
       "  </tbody>\n",
       "</table>\n",
       "<p>47258 rows × 7 columns</p>\n",
       "</div>"
      ],
      "text/plain": [
       "       Stock Price  Strike Price  Maturity  Dividends  Volatility  Risk-free  \\\n",
       "0           216.04         192.5  0.003445     0.0196      0.3191     0.0088   \n",
       "1           216.04         200.0  0.003445     0.0196      0.3191     0.0088   \n",
       "2           216.04         202.5  0.003445     0.0196      0.3191     0.0088   \n",
       "3           216.04         205.0  0.003445     0.0196      0.3191     0.0088   \n",
       "4           216.04         207.5  0.003445     0.0196      0.3191     0.0088   \n",
       "...            ...           ...       ...        ...         ...        ...   \n",
       "47253        83.28          85.0  1.957636     0.0415      0.4502     0.0088   \n",
       "47254        83.28          90.0  1.957636     0.0415      0.4502     0.0088   \n",
       "47255        83.28          95.0  1.957636     0.0415      0.4502     0.0088   \n",
       "47256        83.28         100.0  1.957636     0.0415      0.4502     0.0088   \n",
       "47257        83.28         105.0  1.957636     0.0415      0.4502     0.0088   \n",
       "\n",
       "       Call Price  \n",
       "0           23.70  \n",
       "1           16.50  \n",
       "2           14.10  \n",
       "3           11.60  \n",
       "4            9.20  \n",
       "...           ...  \n",
       "47253       15.00  \n",
       "47254       12.80  \n",
       "47255       11.10  \n",
       "47256        9.85  \n",
       "47257        8.45  \n",
       "\n",
       "[47258 rows x 7 columns]"
      ]
     },
     "execution_count": 6,
     "metadata": {},
     "output_type": "execute_result"
    }
   ],
   "source": [
    "data"
   ]
  },
  {
   "cell_type": "code",
   "execution_count": 7,
   "id": "f3e689f5",
   "metadata": {},
   "outputs": [],
   "source": [
    "data['Stock Price'] = data['Stock Price']/ data['Strike Price']\n",
    "data['Call Price'] = data['Call Price']/data['Strike Price']\n",
    "data['Strike Price'] = data['Strike Price'] / data['Strike Price']"
   ]
  },
  {
   "cell_type": "code",
   "execution_count": 8,
   "id": "7301ad94",
   "metadata": {},
   "outputs": [
    {
     "data": {
      "text/html": [
       "<div>\n",
       "<style scoped>\n",
       "    .dataframe tbody tr th:only-of-type {\n",
       "        vertical-align: middle;\n",
       "    }\n",
       "\n",
       "    .dataframe tbody tr th {\n",
       "        vertical-align: top;\n",
       "    }\n",
       "\n",
       "    .dataframe thead th {\n",
       "        text-align: right;\n",
       "    }\n",
       "</style>\n",
       "<table border=\"1\" class=\"dataframe\">\n",
       "  <thead>\n",
       "    <tr style=\"text-align: right;\">\n",
       "      <th></th>\n",
       "      <th>Stock Price</th>\n",
       "      <th>Strike Price</th>\n",
       "      <th>Maturity</th>\n",
       "      <th>Dividends</th>\n",
       "      <th>Volatility</th>\n",
       "      <th>Risk-free</th>\n",
       "      <th>Call Price</th>\n",
       "    </tr>\n",
       "  </thead>\n",
       "  <tbody>\n",
       "    <tr>\n",
       "      <th>0</th>\n",
       "      <td>1.122286</td>\n",
       "      <td>1.0</td>\n",
       "      <td>0.003445</td>\n",
       "      <td>0.0196</td>\n",
       "      <td>0.3191</td>\n",
       "      <td>0.0088</td>\n",
       "      <td>0.123117</td>\n",
       "    </tr>\n",
       "    <tr>\n",
       "      <th>1</th>\n",
       "      <td>1.080200</td>\n",
       "      <td>1.0</td>\n",
       "      <td>0.003445</td>\n",
       "      <td>0.0196</td>\n",
       "      <td>0.3191</td>\n",
       "      <td>0.0088</td>\n",
       "      <td>0.082500</td>\n",
       "    </tr>\n",
       "    <tr>\n",
       "      <th>2</th>\n",
       "      <td>1.066864</td>\n",
       "      <td>1.0</td>\n",
       "      <td>0.003445</td>\n",
       "      <td>0.0196</td>\n",
       "      <td>0.3191</td>\n",
       "      <td>0.0088</td>\n",
       "      <td>0.069630</td>\n",
       "    </tr>\n",
       "    <tr>\n",
       "      <th>3</th>\n",
       "      <td>1.053854</td>\n",
       "      <td>1.0</td>\n",
       "      <td>0.003445</td>\n",
       "      <td>0.0196</td>\n",
       "      <td>0.3191</td>\n",
       "      <td>0.0088</td>\n",
       "      <td>0.056585</td>\n",
       "    </tr>\n",
       "    <tr>\n",
       "      <th>4</th>\n",
       "      <td>1.041157</td>\n",
       "      <td>1.0</td>\n",
       "      <td>0.003445</td>\n",
       "      <td>0.0196</td>\n",
       "      <td>0.3191</td>\n",
       "      <td>0.0088</td>\n",
       "      <td>0.044337</td>\n",
       "    </tr>\n",
       "    <tr>\n",
       "      <th>...</th>\n",
       "      <td>...</td>\n",
       "      <td>...</td>\n",
       "      <td>...</td>\n",
       "      <td>...</td>\n",
       "      <td>...</td>\n",
       "      <td>...</td>\n",
       "      <td>...</td>\n",
       "    </tr>\n",
       "    <tr>\n",
       "      <th>47253</th>\n",
       "      <td>0.979765</td>\n",
       "      <td>1.0</td>\n",
       "      <td>1.957636</td>\n",
       "      <td>0.0415</td>\n",
       "      <td>0.4502</td>\n",
       "      <td>0.0088</td>\n",
       "      <td>0.176471</td>\n",
       "    </tr>\n",
       "    <tr>\n",
       "      <th>47254</th>\n",
       "      <td>0.925333</td>\n",
       "      <td>1.0</td>\n",
       "      <td>1.957636</td>\n",
       "      <td>0.0415</td>\n",
       "      <td>0.4502</td>\n",
       "      <td>0.0088</td>\n",
       "      <td>0.142222</td>\n",
       "    </tr>\n",
       "    <tr>\n",
       "      <th>47255</th>\n",
       "      <td>0.876632</td>\n",
       "      <td>1.0</td>\n",
       "      <td>1.957636</td>\n",
       "      <td>0.0415</td>\n",
       "      <td>0.4502</td>\n",
       "      <td>0.0088</td>\n",
       "      <td>0.116842</td>\n",
       "    </tr>\n",
       "    <tr>\n",
       "      <th>47256</th>\n",
       "      <td>0.832800</td>\n",
       "      <td>1.0</td>\n",
       "      <td>1.957636</td>\n",
       "      <td>0.0415</td>\n",
       "      <td>0.4502</td>\n",
       "      <td>0.0088</td>\n",
       "      <td>0.098500</td>\n",
       "    </tr>\n",
       "    <tr>\n",
       "      <th>47257</th>\n",
       "      <td>0.793143</td>\n",
       "      <td>1.0</td>\n",
       "      <td>1.957636</td>\n",
       "      <td>0.0415</td>\n",
       "      <td>0.4502</td>\n",
       "      <td>0.0088</td>\n",
       "      <td>0.080476</td>\n",
       "    </tr>\n",
       "  </tbody>\n",
       "</table>\n",
       "<p>47258 rows × 7 columns</p>\n",
       "</div>"
      ],
      "text/plain": [
       "       Stock Price  Strike Price  Maturity  Dividends  Volatility  Risk-free  \\\n",
       "0         1.122286           1.0  0.003445     0.0196      0.3191     0.0088   \n",
       "1         1.080200           1.0  0.003445     0.0196      0.3191     0.0088   \n",
       "2         1.066864           1.0  0.003445     0.0196      0.3191     0.0088   \n",
       "3         1.053854           1.0  0.003445     0.0196      0.3191     0.0088   \n",
       "4         1.041157           1.0  0.003445     0.0196      0.3191     0.0088   \n",
       "...            ...           ...       ...        ...         ...        ...   \n",
       "47253     0.979765           1.0  1.957636     0.0415      0.4502     0.0088   \n",
       "47254     0.925333           1.0  1.957636     0.0415      0.4502     0.0088   \n",
       "47255     0.876632           1.0  1.957636     0.0415      0.4502     0.0088   \n",
       "47256     0.832800           1.0  1.957636     0.0415      0.4502     0.0088   \n",
       "47257     0.793143           1.0  1.957636     0.0415      0.4502     0.0088   \n",
       "\n",
       "       Call Price  \n",
       "0        0.123117  \n",
       "1        0.082500  \n",
       "2        0.069630  \n",
       "3        0.056585  \n",
       "4        0.044337  \n",
       "...           ...  \n",
       "47253    0.176471  \n",
       "47254    0.142222  \n",
       "47255    0.116842  \n",
       "47256    0.098500  \n",
       "47257    0.080476  \n",
       "\n",
       "[47258 rows x 7 columns]"
      ]
     },
     "execution_count": 8,
     "metadata": {},
     "output_type": "execute_result"
    }
   ],
   "source": [
    "data"
   ]
  },
  {
   "cell_type": "markdown",
   "id": "eee5e411",
   "metadata": {},
   "source": [
    "## Data Splitting"
   ]
  },
  {
   "cell_type": "code",
   "execution_count": 9,
   "id": "f5240d52",
   "metadata": {},
   "outputs": [],
   "source": [
    "np.random.seed(0)\n",
    "x_train, x_test, y_train, y_test = train_test_split(data.drop('Call Price', axis = 1), data['Call Price'], test_size = 0.2)"
   ]
  },
  {
   "cell_type": "markdown",
   "id": "62f2b5e0",
   "metadata": {},
   "source": [
    "## Model Creation"
   ]
  },
  {
   "cell_type": "markdown",
   "id": "dd3fa217",
   "metadata": {},
   "source": [
    "The model that we'll follow will be based on a paper written by Robert Culkin and Sanjiv R. Das. The paper tried to recreate an MLP regressor proposed by Hutchinson. The model follows the following specifications.\n",
    "\n",
    "- 4 hidden layers\n",
    "- 100 neurons per layer\n",
    "- The activation functions of LeakyReLU, ELU, ReLU, ELU respectively\n",
    "- Batch size of 64\n",
    "- Drop out rate of 25%\n",
    "- 10 epochs"
   ]
  },
  {
   "cell_type": "code",
   "execution_count": 24,
   "id": "7b14038a",
   "metadata": {},
   "outputs": [],
   "source": [
    "model = MLPRegressor(hidden_layer_sizes= (100, 100, 100, 100), solver= 'adam', shuffle= False, batch_size= 64, verbose = True, max_iter = 10)"
   ]
  },
  {
   "cell_type": "code",
   "execution_count": 25,
   "id": "6a706390",
   "metadata": {
    "scrolled": true
   },
   "outputs": [
    {
     "name": "stdout",
     "output_type": "stream",
     "text": [
      "Iteration 1, loss = 0.01248248\n",
      "Iteration 2, loss = 0.00974039\n",
      "Iteration 3, loss = 0.00946797\n",
      "Iteration 4, loss = 0.00925737\n",
      "Iteration 5, loss = 0.00914407\n",
      "Iteration 6, loss = 0.00898423\n",
      "Iteration 7, loss = 0.00868122\n",
      "Iteration 8, loss = 0.00814324\n",
      "Iteration 9, loss = 0.00790855\n",
      "Iteration 10, loss = 0.00773983\n"
     ]
    },
    {
     "name": "stderr",
     "output_type": "stream",
     "text": [
      "/opt/anaconda3/envs/quant/lib/python3.9/site-packages/sklearn/neural_network/_multilayer_perceptron.py:702: ConvergenceWarning: Stochastic Optimizer: Maximum iterations (10) reached and the optimization hasn't converged yet.\n",
      "  warnings.warn(\n"
     ]
    },
    {
     "data": {
      "text/html": [
       "<style>#sk-container-id-1 {color: black;background-color: white;}#sk-container-id-1 pre{padding: 0;}#sk-container-id-1 div.sk-toggleable {background-color: white;}#sk-container-id-1 label.sk-toggleable__label {cursor: pointer;display: block;width: 100%;margin-bottom: 0;padding: 0.3em;box-sizing: border-box;text-align: center;}#sk-container-id-1 label.sk-toggleable__label-arrow:before {content: \"▸\";float: left;margin-right: 0.25em;color: #696969;}#sk-container-id-1 label.sk-toggleable__label-arrow:hover:before {color: black;}#sk-container-id-1 div.sk-estimator:hover label.sk-toggleable__label-arrow:before {color: black;}#sk-container-id-1 div.sk-toggleable__content {max-height: 0;max-width: 0;overflow: hidden;text-align: left;background-color: #f0f8ff;}#sk-container-id-1 div.sk-toggleable__content pre {margin: 0.2em;color: black;border-radius: 0.25em;background-color: #f0f8ff;}#sk-container-id-1 input.sk-toggleable__control:checked~div.sk-toggleable__content {max-height: 200px;max-width: 100%;overflow: auto;}#sk-container-id-1 input.sk-toggleable__control:checked~label.sk-toggleable__label-arrow:before {content: \"▾\";}#sk-container-id-1 div.sk-estimator input.sk-toggleable__control:checked~label.sk-toggleable__label {background-color: #d4ebff;}#sk-container-id-1 div.sk-label input.sk-toggleable__control:checked~label.sk-toggleable__label {background-color: #d4ebff;}#sk-container-id-1 input.sk-hidden--visually {border: 0;clip: rect(1px 1px 1px 1px);clip: rect(1px, 1px, 1px, 1px);height: 1px;margin: -1px;overflow: hidden;padding: 0;position: absolute;width: 1px;}#sk-container-id-1 div.sk-estimator {font-family: monospace;background-color: #f0f8ff;border: 1px dotted black;border-radius: 0.25em;box-sizing: border-box;margin-bottom: 0.5em;}#sk-container-id-1 div.sk-estimator:hover {background-color: #d4ebff;}#sk-container-id-1 div.sk-parallel-item::after {content: \"\";width: 100%;border-bottom: 1px solid gray;flex-grow: 1;}#sk-container-id-1 div.sk-label:hover label.sk-toggleable__label {background-color: #d4ebff;}#sk-container-id-1 div.sk-serial::before {content: \"\";position: absolute;border-left: 1px solid gray;box-sizing: border-box;top: 0;bottom: 0;left: 50%;z-index: 0;}#sk-container-id-1 div.sk-serial {display: flex;flex-direction: column;align-items: center;background-color: white;padding-right: 0.2em;padding-left: 0.2em;position: relative;}#sk-container-id-1 div.sk-item {position: relative;z-index: 1;}#sk-container-id-1 div.sk-parallel {display: flex;align-items: stretch;justify-content: center;background-color: white;position: relative;}#sk-container-id-1 div.sk-item::before, #sk-container-id-1 div.sk-parallel-item::before {content: \"\";position: absolute;border-left: 1px solid gray;box-sizing: border-box;top: 0;bottom: 0;left: 50%;z-index: -1;}#sk-container-id-1 div.sk-parallel-item {display: flex;flex-direction: column;z-index: 1;position: relative;background-color: white;}#sk-container-id-1 div.sk-parallel-item:first-child::after {align-self: flex-end;width: 50%;}#sk-container-id-1 div.sk-parallel-item:last-child::after {align-self: flex-start;width: 50%;}#sk-container-id-1 div.sk-parallel-item:only-child::after {width: 0;}#sk-container-id-1 div.sk-dashed-wrapped {border: 1px dashed gray;margin: 0 0.4em 0.5em 0.4em;box-sizing: border-box;padding-bottom: 0.4em;background-color: white;}#sk-container-id-1 div.sk-label label {font-family: monospace;font-weight: bold;display: inline-block;line-height: 1.2em;}#sk-container-id-1 div.sk-label-container {text-align: center;}#sk-container-id-1 div.sk-container {/* jupyter's `normalize.less` sets `[hidden] { display: none; }` but bootstrap.min.css set `[hidden] { display: none !important; }` so we also need the `!important` here to be able to override the default hidden behavior on the sphinx rendered scikit-learn.org. See: https://github.com/scikit-learn/scikit-learn/issues/21755 */display: inline-block !important;position: relative;}#sk-container-id-1 div.sk-text-repr-fallback {display: none;}</style><div id=\"sk-container-id-1\" class=\"sk-top-container\"><div class=\"sk-text-repr-fallback\"><pre>MLPRegressor(batch_size=64, hidden_layer_sizes=(100, 100, 100, 100),\n",
       "             max_iter=10, shuffle=False, verbose=True)</pre><b>In a Jupyter environment, please rerun this cell to show the HTML representation or trust the notebook. <br />On GitHub, the HTML representation is unable to render, please try loading this page with nbviewer.org.</b></div><div class=\"sk-container\" hidden><div class=\"sk-item\"><div class=\"sk-estimator sk-toggleable\"><input class=\"sk-toggleable__control sk-hidden--visually\" id=\"sk-estimator-id-1\" type=\"checkbox\" checked><label for=\"sk-estimator-id-1\" class=\"sk-toggleable__label sk-toggleable__label-arrow\">MLPRegressor</label><div class=\"sk-toggleable__content\"><pre>MLPRegressor(batch_size=64, hidden_layer_sizes=(100, 100, 100, 100),\n",
       "             max_iter=10, shuffle=False, verbose=True)</pre></div></div></div></div></div>"
      ],
      "text/plain": [
       "MLPRegressor(batch_size=64, hidden_layer_sizes=(100, 100, 100, 100),\n",
       "             max_iter=10, shuffle=False, verbose=True)"
      ]
     },
     "execution_count": 25,
     "metadata": {},
     "output_type": "execute_result"
    }
   ],
   "source": [
    "model.fit(x_train, y_train)"
   ]
  },
  {
   "cell_type": "code",
   "execution_count": 26,
   "id": "5ef5d50a",
   "metadata": {},
   "outputs": [
    {
     "name": "stdout",
     "output_type": "stream",
     "text": [
      "Training score: 0.8825264418042749\n"
     ]
    }
   ],
   "source": [
    "print(f\"Training score: {model.score(x_train, y_train)}\")"
   ]
  },
  {
   "cell_type": "code",
   "execution_count": 27,
   "id": "45b35a51",
   "metadata": {},
   "outputs": [
    {
     "name": "stdout",
     "output_type": "stream",
     "text": [
      "Testing score: 0.8776515483636116\n"
     ]
    }
   ],
   "source": [
    "print(f\"Testing score: {model.score(x_test, y_test)}\")"
   ]
  },
  {
   "cell_type": "code",
   "execution_count": 33,
   "id": "97cd3398",
   "metadata": {},
   "outputs": [],
   "source": [
    "predicted = model.predict(x_test)\n",
    "actual = y_test"
   ]
  },
  {
   "cell_type": "code",
   "execution_count": 34,
   "id": "d4d5a02d",
   "metadata": {},
   "outputs": [
    {
     "data": {
      "text/plain": [
       "[<matplotlib.lines.Line2D at 0x7fdf782aaac0>]"
      ]
     },
     "execution_count": 34,
     "metadata": {},
     "output_type": "execute_result"
    },
    {
     "data": {
      "image/png": "[encoded data removed]",
      "text/plain": [
       "<Figure size 432x288 with 1 Axes>"
      ]
     },
     "metadata": {
      "needs_background": "light"
     },
     "output_type": "display_data"
    }
   ],
   "source": [
    "plt.plot(actual, predicted, '.')"
   ]
  },
  {
   "cell_type": "code",
   "execution_count": 35,
   "id": "2fccb823",
   "metadata": {},
   "outputs": [
    {
     "data": {
      "text/plain": [
       "0.019717501834245112"
      ]
     },
     "execution_count": 35,
     "metadata": {},
     "output_type": "execute_result"
    }
   ],
   "source": [
    "mse = (actual - predicted) ** 2\n",
    "mse.mean()"
   ]
  },
  {
   "cell_type": "markdown",
   "id": "ba517c40",
   "metadata": {},
   "source": [
    "## Using Tensorflow"
   ]
  },
  {
   "cell_type": "markdown",
   "id": "a7c6d7eb",
   "metadata": {},
   "source": [
    "Although sklearn makes creating an MLPRegressor relatively simple, it was hard finding the correct way of implementing specific activation functions as well as dropout rate. Using Tensorflow, it may be easier to have more control."
   ]
  },
  {
   "cell_type": "code",
   "execution_count": 3,
   "id": "9d4fd822",
   "metadata": {},
   "outputs": [],
   "source": [
    "import numpy as np, pandas as pd\n",
    "from tensorflow.keras import Input, Model, models, layers, losses, metrics, optimizers, Sequential"
   ]
  },
  {
   "cell_type": "code",
   "execution_count": 18,
   "id": "652156d1",
   "metadata": {},
   "outputs": [],
   "source": [
    "leaky = layers.LeakyReLU()\n",
    "elu = layers.ELU()\n",
    "relu = layers.ReLU()\n",
    "\n",
    "drop = lambda rate: layers.Dropout(rate)\n",
    "\n",
    "lay = lambda neurons: layers.Dense(neurons)"
   ]
  },
  {
   "cell_type": "code",
   "execution_count": 19,
   "id": "eea06c85",
   "metadata": {},
   "outputs": [],
   "source": [
    "option_model = Sequential([\n",
    "    lay(100),\n",
    "    leaky,\n",
    "    drop(0.25),\n",
    "    \n",
    "    lay(100),\n",
    "    elu,\n",
    "    drop(0.25),\n",
    "    \n",
    "    lay(100),\n",
    "    relu,\n",
    "    drop(0.25),\n",
    "    \n",
    "    lay(100),\n",
    "    elu,\n",
    "    drop(0.25)\n",
    "])"
   ]
  },
  {
   "cell_type": "code",
   "execution_count": 20,
   "id": "6311bc1c",
   "metadata": {},
   "outputs": [],
   "source": [
    "option_model.compile(\n",
    "    loss = losses.MeanSquaredError(),\n",
    "    optimizer = optimizers.Adam()\n",
    ")"
   ]
  },
  {
   "cell_type": "code",
   "execution_count": 21,
   "id": "27bc9fad",
   "metadata": {},
   "outputs": [
    {
     "name": "stdout",
     "output_type": "stream",
     "text": [
      "Epoch 1/10\n",
      "1182/1182 [==============================] - 2s 2ms/step - loss: 0.0813\n",
      "Epoch 2/10\n",
      "1182/1182 [==============================] - 2s 2ms/step - loss: 0.0738\n",
      "Epoch 3/10\n",
      "1182/1182 [==============================] - 2s 2ms/step - loss: 0.0710\n",
      "Epoch 4/10\n",
      "1182/1182 [==============================] - 2s 2ms/step - loss: 0.0724\n",
      "Epoch 5/10\n",
      "1182/1182 [==============================] - 2s 2ms/step - loss: 0.0730\n",
      "Epoch 6/10\n",
      "1182/1182 [==============================] - 2s 2ms/step - loss: 0.0705\n",
      "Epoch 7/10\n",
      "1182/1182 [==============================] - 2s 1ms/step - loss: 0.0722\n",
      "Epoch 8/10\n",
      "1182/1182 [==============================] - 2s 1ms/step - loss: 0.0696\n",
      "Epoch 9/10\n",
      "1182/1182 [==============================] - 2s 1ms/step - loss: 0.0694\n",
      "Epoch 10/10\n",
      "1182/1182 [==============================] - 2s 1ms/step - loss: 0.0691\n"
     ]
    },
    {
     "data": {
      "text/plain": [
       "<keras.callbacks.History at 0x7fdf77d5d040>"
      ]
     },
     "execution_count": 21,
     "metadata": {},
     "output_type": "execute_result"
    }
   ],
   "source": [
    "option_model.fit(x_train, y_train, epochs = 10)"
   ]
  },
  {
   "cell_type": "code",
   "execution_count": 36,
   "id": "af720e86",
   "metadata": {},
   "outputs": [
    {
     "name": "stdout",
     "output_type": "stream",
     "text": [
      "148/148 [==============================] - 0s 1ms/step - loss: 0.0286\n"
     ]
    }
   ],
   "source": [
    "testing_error = option_model.evaluate(x_test, y_test, batch_size= 64)"
   ]
  },
  {
   "cell_type": "code",
   "execution_count": 37,
   "id": "07db584f",
   "metadata": {},
   "outputs": [
    {
     "name": "stdout",
     "output_type": "stream",
     "text": [
      "591/591 [==============================] - 1s 960us/step - loss: 0.0306\n"
     ]
    }
   ],
   "source": [
    "training_error = option_model.evaluate(x_train, y_train, batch_size = 64)"
   ]
  },
  {
   "cell_type": "markdown",
   "id": "8d864959",
   "metadata": {},
   "source": [
    "## Results for Sequential NN"
   ]
  },
  {
   "cell_type": "markdown",
   "id": "be3d649a",
   "metadata": {},
   "source": [
    "Even applying the dropout, batch size, activation functions, it seems that the regular \"vanilla\" MLP yielded slightly better results with an MSE of 1.9% whereas the Sequential NN has an MSE of 2.8%. We can further evaluate whether the models are underfitted. Both have a lower MSE in the evaluation model, so we can see if training it a bit more would decrease the loss."
   ]
  },
  {
   "cell_type": "code",
   "execution_count": null,
   "id": "2cff3460",
   "metadata": {},
   "outputs": [],
   "source": [
    "fname = './model.hdf5'\n",
    "option_model.save(fname)"
   ]
  }
 ],
 "metadata": {
  "kernelspec": {
   "display_name": "Python 3 (ipykernel)",
   "language": "python",
   "name": "python3"
  },
  "language_info": {
   "codemirror_mode": {
    "name": "ipython",
    "version": 3
   },
   "file_extension": ".py",
   "mimetype": "text/x-python",
   "name": "python",
   "nbconvert_exporter": "python",
   "pygments_lexer": "ipython3",
   "version": "3.9.12"
  }
 },
 "nbformat": 4,
 "nbformat_minor": 5
}
